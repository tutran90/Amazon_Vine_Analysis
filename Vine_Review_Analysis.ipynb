{
  "nbformat": 4,
  "nbformat_minor": 0,
  "metadata": {
    "colab": {
      "name": "Vine_Review_Analysis.ipynb",
      "provenance": [],
      "collapsed_sections": []
    },
    "kernelspec": {
      "name": "python3",
      "display_name": "Python 3"
    },
    "language_info": {
      "name": "python"
    }
  },
  "cells": [
    {
      "cell_type": "code",
      "execution_count": 1,
      "metadata": {
        "colab": {
          "base_uri": "https://localhost:8080/"
        },
        "id": "o0oFgFEOYUP3",
        "outputId": "f77fe245-5670-42a3-a304-2404e1c9fd7e"
      },
      "outputs": [
        {
          "output_type": "stream",
          "name": "stdout",
          "text": [
            "\r0% [Working]\r            \rIgn:1 https://developer.download.nvidia.com/compute/cuda/repos/ubuntu1804/x86_64  InRelease\n",
            "Get:2 http://security.ubuntu.com/ubuntu bionic-security InRelease [88.7 kB]\n",
            "Get:3 http://ppa.launchpad.net/c2d4u.team/c2d4u4.0+/ubuntu bionic InRelease [15.9 kB]\n",
            "Hit:4 http://archive.ubuntu.com/ubuntu bionic InRelease\n",
            "Ign:5 https://developer.download.nvidia.com/compute/machine-learning/repos/ubuntu1804/x86_64  InRelease\n",
            "Hit:6 https://developer.download.nvidia.com/compute/cuda/repos/ubuntu1804/x86_64  Release\n",
            "Hit:7 https://developer.download.nvidia.com/compute/machine-learning/repos/ubuntu1804/x86_64  Release\n",
            "Get:8 http://archive.ubuntu.com/ubuntu bionic-updates InRelease [88.7 kB]\n",
            "Hit:9 http://ppa.launchpad.net/cran/libgit2/ubuntu bionic InRelease\n",
            "Hit:10 http://archive.ubuntu.com/ubuntu bionic-backports InRelease\n",
            "Get:11 http://ppa.launchpad.net/deadsnakes/ppa/ubuntu bionic InRelease [15.9 kB]\n",
            "Get:12 http://ppa.launchpad.net/graphics-drivers/ppa/ubuntu bionic InRelease [21.3 kB]\n",
            "Get:14 https://cloud.r-project.org/bin/linux/ubuntu bionic-cran40/ InRelease [3,626 B]\n",
            "Get:16 http://ppa.launchpad.net/c2d4u.team/c2d4u4.0+/ubuntu bionic/main Sources [1,822 kB]\n",
            "Get:17 http://security.ubuntu.com/ubuntu bionic-security/main amd64 Packages [2,489 kB]\n",
            "Get:18 http://security.ubuntu.com/ubuntu bionic-security/universe amd64 Packages [1,459 kB]\n",
            "Get:19 http://ppa.launchpad.net/c2d4u.team/c2d4u4.0+/ubuntu bionic/main amd64 Packages [934 kB]\n",
            "Get:20 http://security.ubuntu.com/ubuntu bionic-security/restricted amd64 Packages [716 kB]\n",
            "Get:21 http://security.ubuntu.com/ubuntu bionic-security/multiverse amd64 Packages [26.8 kB]\n",
            "Get:22 http://archive.ubuntu.com/ubuntu bionic-updates/restricted amd64 Packages [749 kB]\n",
            "Get:23 http://archive.ubuntu.com/ubuntu bionic-updates/universe amd64 Packages [2,238 kB]\n",
            "Get:24 http://archive.ubuntu.com/ubuntu bionic-updates/multiverse amd64 Packages [34.5 kB]\n",
            "Get:25 http://archive.ubuntu.com/ubuntu bionic-updates/main amd64 Packages [2,929 kB]\n",
            "Get:26 http://ppa.launchpad.net/deadsnakes/ppa/ubuntu bionic/main amd64 Packages [45.3 kB]\n",
            "Get:27 http://ppa.launchpad.net/graphics-drivers/ppa/ubuntu bionic/main amd64 Packages [44.7 kB]\n",
            "Fetched 13.7 MB in 5s (2,645 kB/s)\n",
            "Reading package lists... Done\n"
          ]
        }
      ],
      "source": [
        "import os\n",
        "# Find the latest version of spark 3.0 from http://www.apache.org/dist/spark/ and enter as the spark version\n",
        "# For example:\n",
        "# spark_version = 'spark-3.0.3'\n",
        "spark_version = 'spark-3.0.3'\n",
        "os.environ['SPARK_VERSION']=spark_version\n",
        "\n",
        "# Install Spark and Java\n",
        "!apt-get update\n",
        "!apt-get install openjdk-11-jdk-headless -qq > /dev/null\n",
        "!wget -q http://www.apache.org/dist/spark/$SPARK_VERSION/$SPARK_VERSION-bin-hadoop2.7.tgz\n",
        "!tar xf $SPARK_VERSION-bin-hadoop2.7.tgz\n",
        "!pip install -q findspark\n",
        "\n",
        "# Set Environment Variables\n",
        "import os\n",
        "os.environ[\"JAVA_HOME\"] = \"/usr/lib/jvm/java-11-openjdk-amd64\"\n",
        "os.environ[\"SPARK_HOME\"] = f\"/content/{spark_version}-bin-hadoop2.7\"\n",
        "\n",
        "# Start a SparkSession\n",
        "import findspark\n",
        "findspark.init()"
      ]
    },
    {
      "cell_type": "code",
      "source": [
        "# Download the Postgres driver that will allow Spark to interact with Postgres.\n",
        "!wget https://jdbc.postgresql.org/download/postgresql-42.2.16.jar"
      ],
      "metadata": {
        "colab": {
          "base_uri": "https://localhost:8080/"
        },
        "id": "8bX8S0wJYh5O",
        "outputId": "9f3b3847-c899-45c7-d7e0-956509ba9c8e"
      },
      "execution_count": 2,
      "outputs": [
        {
          "output_type": "stream",
          "name": "stdout",
          "text": [
            "--2022-01-09 15:09:08--  https://jdbc.postgresql.org/download/postgresql-42.2.16.jar\n",
            "Resolving jdbc.postgresql.org (jdbc.postgresql.org)... 72.32.157.228, 2001:4800:3e1:1::228\n",
            "Connecting to jdbc.postgresql.org (jdbc.postgresql.org)|72.32.157.228|:443... connected.\n",
            "HTTP request sent, awaiting response... 200 OK\n",
            "Length: 1002883 (979K) [application/java-archive]\n",
            "Saving to: ‘postgresql-42.2.16.jar’\n",
            "\n",
            "postgresql-42.2.16. 100%[===================>] 979.38K  --.-KB/s    in 0.1s    \n",
            "\n",
            "2022-01-09 15:09:09 (6.54 MB/s) - ‘postgresql-42.2.16.jar’ saved [1002883/1002883]\n",
            "\n"
          ]
        }
      ]
    },
    {
      "cell_type": "code",
      "source": [
        "from pyspark.sql import SparkSession\n",
        "spark = SparkSession.builder.appName(\"M16-Amazon-Challenge\").config(\"spark.driver.extraClassPath\",\"/content/postgresql-42.2.16.jar\").getOrCreate()"
      ],
      "metadata": {
        "id": "gZg5X-dmYokg"
      },
      "execution_count": 3,
      "outputs": []
    },
    {
      "cell_type": "code",
      "source": [
        "from pyspark import SparkFiles\n",
        "url = \"https://s3.amazonaws.com/amazon-reviews-pds/tsv/amazon_reviews_us_Beauty_v1_00.tsv.gz\"\n",
        "spark.sparkContext.addFile(url)\n",
        "df = spark.read.option(\"encoding\", \"UTF-8\").csv(SparkFiles.get(\"amazon_reviews_us_Beauty_v1_00.tsv.gz\"), sep=\"\\t\", header=True, inferSchema=True)\n",
        "df.show()\n",
        "df_total= df.count()"
      ],
      "metadata": {
        "colab": {
          "base_uri": "https://localhost:8080/"
        },
        "id": "ezPAtrdxYuic",
        "outputId": "6d5190fc-c24e-46b7-f6c7-bac4816167af"
      },
      "execution_count": 54,
      "outputs": [
        {
          "output_type": "stream",
          "name": "stdout",
          "text": [
            "+-----------+-----------+--------------+----------+--------------+--------------------+----------------+-----------+-------------+-----------+----+-----------------+--------------------+---------------------+-----------+\n",
            "|marketplace|customer_id|     review_id|product_id|product_parent|       product_title|product_category|star_rating|helpful_votes|total_votes|vine|verified_purchase|     review_headline|          review_body|review_date|\n",
            "+-----------+-----------+--------------+----------+--------------+--------------------+----------------+-----------+-------------+-----------+----+-----------------+--------------------+---------------------+-----------+\n",
            "|         US|    1797882|R3I2DHQBR577SS|B001ANOOOE|       2102612|The Naked Bee Vit...|          Beauty|          5|            0|          0|   N|                Y|          Five Stars| Love this, excell...| 2015-08-31|\n",
            "|         US|   18381298|R1QNE9NQFJC2Y4|B0016J22EQ|     106393691|Alba Botanica Sun...|          Beauty|          5|            0|          0|   N|                Y|Thank you Alba Bo...| The great thing a...| 2015-08-31|\n",
            "|         US|   19242472|R3LIDG2Q4LJBAO|B00HU6UQAG|     375449471|Elysee Infusion S...|          Beauty|          5|            0|          0|   N|                Y|          Five Stars| Great Product, I'...| 2015-08-31|\n",
            "|         US|   19551372|R3KSZHPAEVPEAL|B002HWS7RM|     255651889|Diane D722 Color,...|          Beauty|          5|            0|          0|   N|                Y|          GOOD DEAL!| I use them as sho...| 2015-08-31|\n",
            "|         US|   14802407| RAI2OIG50KZ43|B00SM99KWU|     116158747|Biore UV Aqua Ric...|          Beauty|          5|            0|          0|   N|                Y|this soaks in qui...| This is my go-to ...| 2015-08-31|\n",
            "|         US|    2909389|R1R30FA4RB5P54|B000NYL1Z6|     166146615|Murad Clarifying ...|          Beauty|          4|            0|          0|   N|                Y|          Four Stars|                 Good| 2015-08-31|\n",
            "|         US|   19397215|R30IJKCGJBGPJH|B001SYWTFG|     111742328|CoverGirl Queen C...|          Beauty|          5|            0|          0|   N|                Y|            Good buy| Great eyeliner, d...| 2015-08-31|\n",
            "|         US|    3195210|R18GLJJPVQ1OVH|B005F2EVMQ|     255803087|Bifesta Mandom Ey...|          Beauty|          5|            0|          0|   N|                Y|          Five Stars|Best makeup remover！| 2015-08-31|\n",
            "|         US|   52216383| R8TVYIJXLYJT0|B00M1SUW7K|     246816549|Can You Handlebar...|          Beauty|          5|            0|          0|   N|                Y|Tame the wild mus...| This is a great p...| 2015-08-31|\n",
            "|         US|   10278216|R1CJGF6M3PVHEZ|B001KYQA1S|       9612905|Maybelline Great ...|          Beauty|          1|            0|          2|   N|                Y|but it's like hav...| I thought it woul...| 2015-08-31|\n",
            "|         US|   24655453|R2A30ALEGLMCGN|B00SAQ9DZY|     292127037|12 New, High Qual...|          Beauty|          4|            1|          1|   N|                Y|        Good Product| These are great f...| 2015-08-31|\n",
            "|         US|   30788223|R134GP1Y3EQZ1L|B00HFQQ0VU|     311309827|Waterpik Aquarius...|          Beauty|          5|            0|          0|   N|                Y| Optimum Oral Health| Just got this.  N...| 2015-08-31|\n",
            "|         US|   11257536| R6CE3SOIUJGP4|B00PYL8MAA|     390030149|Proganix Agave Ne...|          Beauty|          4|            1|          1|   N|                N|   Love this cream !| Wish I had discov...| 2015-08-31|\n",
            "|         US|   29605778|R37CDLQZUPDZVM|B00D9NV2D4|     794858888|         Shea Butter|          Beauty|          5|            0|          0|   N|                Y|It works so much ...| I bought this to ...| 2015-08-31|\n",
            "|         US|   41238422|R1KH9XCK6GYT26|B008Y9M412|     874223919|Etude House Fresh...|          Beauty|          5|            0|          0|   N|                Y|          Five Stars| The tint is aweso...| 2015-08-31|\n",
            "|         US|   23620123|R3I4BQ6654MQNA|B00FWXBLHG|     464001209|Vintage Lil' Spon...|          Beauty|          5|            1|          1|   N|                Y|Great product, fa...| I'm in love with ...| 2015-08-31|\n",
            "|         US|   25564245|R3LUPG356F1D40|B003KL8CB0|     328680790|Jenna Jameson Hea...|          Beauty|          5|            3|          3|   N|                N|Does not smell ch...| I was given this ...| 2015-08-31|\n",
            "|         US|     801375|R3HNVRTHL9S2ZB|B006R2LNV0|     620737389|Korean Cosmetics_...|          Beauty|          5|            0|          0|   N|                N|          Five Stars| Magical everybody...| 2015-08-31|\n",
            "|         US|    9478730| R5HKL5RD4IUT8|B00SMIIR0W|     351973146|Schick Hydro Silk...|          Beauty|          5|            0|          0|   N|                Y|Love this Razor/T...| Works fantastic! ...| 2015-08-31|\n",
            "|         US|   18418407|R37Z8NBTHPR853|B003UKKH6O|      10034795|Oral-B Vitality P...|          Beauty|          5|            0|          0|   N|                Y|          Five Stars| excellent battery...| 2015-08-31|\n",
            "+-----------+-----------+--------------+----------+--------------+--------------------+----------------+-----------+-------------+-----------+----+-----------------+--------------------+---------------------+-----------+\n",
            "only showing top 20 rows\n",
            "\n"
          ]
        }
      ]
    },
    {
      "cell_type": "code",
      "source": [
        "import pyspark.sql.functions as F\n",
        "from pyspark.sql.functions import *"
      ],
      "metadata": {
        "id": "TTrD3fYkvWZM"
      },
      "execution_count": 32,
      "outputs": []
    },
    {
      "cell_type": "code",
      "source": [
        "# Filter the data and create a new DF or table to retrieve all the \n",
        "# rows where the total_votes count is = > 20 \n",
        "\n",
        "filtered_vine_df = df.select(['review_id', 'star_rating', 'helpful_votes', 'total_votes', 'vine', 'verified_purchase'])\n",
        "filtered_vine_df2= filtered_vine_df.filter(filtered_vine_df['total_votes'] >= 20)\n",
        "filtered_vine_df2.show()\n",
        "filtered_vine_df2.schema\n",
        "filtered_vine_df2.count()"
      ],
      "metadata": {
        "colab": {
          "base_uri": "https://localhost:8080/"
        },
        "id": "zlLW1NajY1QD",
        "outputId": "a0c73475-582d-45e2-c518-63421b662b6e"
      },
      "execution_count": 53,
      "outputs": [
        {
          "output_type": "stream",
          "name": "stdout",
          "text": [
            "+--------------+-----------+-------------+-----------+----+-----------------+\n",
            "|     review_id|star_rating|helpful_votes|total_votes|vine|verified_purchase|\n",
            "+--------------+-----------+-------------+-----------+----+-----------------+\n",
            "|R2QRUE9REK8OUC|          5|           18|         23|   N|                Y|\n",
            "|R2POXRW6PXHXZG|          5|           25|         30|   N|                Y|\n",
            "| RZN43XRZ89IIJ|          3|           10|         27|   N|                N|\n",
            "|R29Q748WSHZ3SN|          5|           23|         24|   N|                Y|\n",
            "| R46UL5G5HEPRZ|          5|           18|         20|   N|                N|\n",
            "|R2UQHSNWU6WTZX|          5|           74|         76|   N|                N|\n",
            "|R2HSRI3D6E2M9Y|          5|           69|         71|   N|                Y|\n",
            "|R17ARFSDV555EW|          1|           29|         29|   N|                Y|\n",
            "|R3GL5156FFEDQA|          5|           20|         21|   N|                Y|\n",
            "|R29KQJC9PIYWQS|          5|           25|         26|   N|                Y|\n",
            "| RYWUJT2A33VJH|          5|           20|         22|   N|                N|\n",
            "|R1KH5L45CWI30I|          5|           19|         20|   N|                N|\n",
            "|R1RKEBF47UEIVH|          5|           26|         30|   N|                N|\n",
            "|R3N1SCGIU1LV1U|          1|            2|         20|   N|                Y|\n",
            "|R2WIB8BHF77XIG|          4|           69|         78|   N|                N|\n",
            "|R20T4C0DA38YBD|          5|           22|         23|   N|                Y|\n",
            "| REUKY9DLNJXYF|          4|           21|         22|   N|                Y|\n",
            "|R2OH5QLD7MGJTG|          5|           48|         48|   N|                Y|\n",
            "|R179M7NOS1365W|          5|           88|         91|   N|                Y|\n",
            "|R2NPNCGM6T1JBA|          3|          253|        259|   N|                Y|\n",
            "+--------------+-----------+-------------+-----------+----+-----------------+\n",
            "only showing top 20 rows\n",
            "\n"
          ]
        },
        {
          "output_type": "execute_result",
          "data": {
            "text/plain": [
              "79227"
            ]
          },
          "metadata": {},
          "execution_count": 53
        }
      ]
    },
    {
      "cell_type": "code",
      "source": [
        "#  filter the new DF and create a new df to retrieve all the rows \n",
        "# where helpful_votes / total_votes =>50%\n",
        "\n",
        "filtered_helpful_votes = filtered_vine_df2.withColumn('percentage_of_helpful_votes', col('helpful_votes')/col('total_votes'))\n",
        "# filtered_helpful_votes.show()\n",
        "f2_helpful_votes = filtered_helpful_votes.filter(filtered_helpful_votes['percentage_of_helpful_votes'] >= .5)\n",
        "f2_helpful_votes.show()\n",
        "total_count = f2_helpful_votes.count()\n",
        "print(total_count)\n",
        "# 74760\n"
      ],
      "metadata": {
        "colab": {
          "base_uri": "https://localhost:8080/"
        },
        "id": "6tL43Ha8tD_U",
        "outputId": "79677b97-42cf-48bc-c8e5-e7fa9d6084f6"
      },
      "execution_count": 40,
      "outputs": [
        {
          "output_type": "stream",
          "name": "stdout",
          "text": [
            "+--------------+-----------+-------------+-----------+----+-----------------+---------------------------+\n",
            "|     review_id|star_rating|helpful_votes|total_votes|vine|verified_purchase|percentage_of_helpful_votes|\n",
            "+--------------+-----------+-------------+-----------+----+-----------------+---------------------------+\n",
            "|R2QRUE9REK8OUC|          5|           18|         23|   N|                Y|          0.782608695652174|\n",
            "|R2POXRW6PXHXZG|          5|           25|         30|   N|                Y|         0.8333333333333334|\n",
            "|R29Q748WSHZ3SN|          5|           23|         24|   N|                Y|         0.9583333333333334|\n",
            "| R46UL5G5HEPRZ|          5|           18|         20|   N|                N|                        0.9|\n",
            "|R2UQHSNWU6WTZX|          5|           74|         76|   N|                N|         0.9736842105263158|\n",
            "|R2HSRI3D6E2M9Y|          5|           69|         71|   N|                Y|          0.971830985915493|\n",
            "|R17ARFSDV555EW|          1|           29|         29|   N|                Y|                        1.0|\n",
            "|R3GL5156FFEDQA|          5|           20|         21|   N|                Y|         0.9523809523809523|\n",
            "|R29KQJC9PIYWQS|          5|           25|         26|   N|                Y|         0.9615384615384616|\n",
            "| RYWUJT2A33VJH|          5|           20|         22|   N|                N|         0.9090909090909091|\n",
            "|R1KH5L45CWI30I|          5|           19|         20|   N|                N|                       0.95|\n",
            "|R1RKEBF47UEIVH|          5|           26|         30|   N|                N|         0.8666666666666667|\n",
            "|R2WIB8BHF77XIG|          4|           69|         78|   N|                N|         0.8846153846153846|\n",
            "|R20T4C0DA38YBD|          5|           22|         23|   N|                Y|         0.9565217391304348|\n",
            "| REUKY9DLNJXYF|          4|           21|         22|   N|                Y|         0.9545454545454546|\n",
            "|R2OH5QLD7MGJTG|          5|           48|         48|   N|                Y|                        1.0|\n",
            "|R179M7NOS1365W|          5|           88|         91|   N|                Y|          0.967032967032967|\n",
            "|R2NPNCGM6T1JBA|          3|          253|        259|   N|                Y|         0.9768339768339769|\n",
            "|R345Z1BTFABFY0|          1|           19|         22|   N|                Y|         0.8636363636363636|\n",
            "|R2Z6FGGU3VNCT2|          1|           41|         46|   N|                N|         0.8913043478260869|\n",
            "+--------------+-----------+-------------+-----------+----+-----------------+---------------------------+\n",
            "only showing top 20 rows\n",
            "\n",
            "74760\n"
          ]
        }
      ]
    },
    {
      "cell_type": "code",
      "source": [
        "# 3. Filter the DF/table created and create a new DF/table that retireves all rows\n",
        "# where a review was writtend as part of the vine program (paid) (vine=='Y')\n",
        "\n",
        "vine_paid_df = f2_helpful_votes.filter(f2_helpful_votes['vine'] == 'Y')\n",
        "vine_paid_df.show()\n",
        "total_vine_paid = vine_paid_df.count()\n",
        "print(total_vine_paid)\n",
        "# 647"
      ],
      "metadata": {
        "colab": {
          "base_uri": "https://localhost:8080/"
        },
        "id": "DUOXe9H_hwAp",
        "outputId": "e1d880d6-ffe7-452a-b230-833b27839ddc"
      },
      "execution_count": 42,
      "outputs": [
        {
          "output_type": "stream",
          "name": "stdout",
          "text": [
            "+--------------+-----------+-------------+-----------+----+-----------------+---------------------------+\n",
            "|     review_id|star_rating|helpful_votes|total_votes|vine|verified_purchase|percentage_of_helpful_votes|\n",
            "+--------------+-----------+-------------+-----------+----+-----------------+---------------------------+\n",
            "|R106V6GUNWRSSS|          5|          857|        889|   Y|                N|         0.9640044994375703|\n",
            "|R37N8KZS48W36A|          5|           36|         37|   Y|                N|          0.972972972972973|\n",
            "|R1LNEQ2MQE03PD|          5|           49|         66|   Y|                N|         0.7424242424242424|\n",
            "|R1ECPWPUNK36ES|          5|           29|         31|   Y|                N|         0.9354838709677419|\n",
            "|R16BUM7UQZLOM6|          3|          107|        112|   Y|                N|         0.9553571428571429|\n",
            "| R7NWIOCA5RVPR|          5|           19|         26|   Y|                N|         0.7307692307692307|\n",
            "|R3NTGOCUZB33JK|          5|           40|         47|   Y|                Y|          0.851063829787234|\n",
            "| RQX3RHGMG7UBN|          5|          186|        200|   Y|                N|                       0.93|\n",
            "|R3E6QYKZDST042|          4|           33|         39|   Y|                N|         0.8461538461538461|\n",
            "|R2GR106PWUN85O|          4|           36|         39|   Y|                N|         0.9230769230769231|\n",
            "| R5AJK8HCOKXV5|          4|           20|         23|   Y|                N|         0.8695652173913043|\n",
            "| RCHD0PMJO6Y52|          3|           17|         20|   Y|                N|                       0.85|\n",
            "|R1AF6ANE5JFP4D|          5|           50|         55|   Y|                N|         0.9090909090909091|\n",
            "|R2FKVTMWD52KEY|          4|          265|        276|   Y|                N|         0.9601449275362319|\n",
            "| RZUT8OQAGWOYE|          5|           46|         49|   Y|                N|         0.9387755102040817|\n",
            "| RW89H46BTJJWI|          2|           20|         20|   Y|                N|                        1.0|\n",
            "| RQ0N3J1IZKGMA|          1|           63|         63|   Y|                N|                        1.0|\n",
            "|R1Z88KA5VANTXS|          2|           42|         47|   Y|                N|         0.8936170212765957|\n",
            "|R3M9NW8LPEKTWX|          5|           20|         21|   Y|                Y|         0.9523809523809523|\n",
            "|R16QHBYJJ01R4P|          5|           23|         24|   Y|                N|         0.9583333333333334|\n",
            "+--------------+-----------+-------------+-----------+----+-----------------+---------------------------+\n",
            "only showing top 20 rows\n",
            "\n",
            "647\n"
          ]
        }
      ]
    },
    {
      "cell_type": "code",
      "source": [
        "# 4. Filter the DF/table created and create a new DF/table that retireves all rows\n",
        "# where a review was writtend as part of the vine program (unpaid) (vine=='N')\n",
        "\n",
        "vine_unpaid_df = f2_helpful_votes.filter(f2_helpful_votes['vine'] == 'N')\n",
        "vine_unpaid_df.show()\n",
        "total_vine_unpaid = vine_unpaid_df.count()\n",
        "print(total_vine_unpaid)\n",
        "# 74113"
      ],
      "metadata": {
        "colab": {
          "base_uri": "https://localhost:8080/"
        },
        "id": "woLkaVNbiwHR",
        "outputId": "131e5bbe-6cd9-4bf4-9f84-8b186b6397d4"
      },
      "execution_count": 43,
      "outputs": [
        {
          "output_type": "stream",
          "name": "stdout",
          "text": [
            "+--------------+-----------+-------------+-----------+----+-----------------+---------------------------+\n",
            "|     review_id|star_rating|helpful_votes|total_votes|vine|verified_purchase|percentage_of_helpful_votes|\n",
            "+--------------+-----------+-------------+-----------+----+-----------------+---------------------------+\n",
            "|R2QRUE9REK8OUC|          5|           18|         23|   N|                Y|          0.782608695652174|\n",
            "|R2POXRW6PXHXZG|          5|           25|         30|   N|                Y|         0.8333333333333334|\n",
            "|R29Q748WSHZ3SN|          5|           23|         24|   N|                Y|         0.9583333333333334|\n",
            "| R46UL5G5HEPRZ|          5|           18|         20|   N|                N|                        0.9|\n",
            "|R2UQHSNWU6WTZX|          5|           74|         76|   N|                N|         0.9736842105263158|\n",
            "|R2HSRI3D6E2M9Y|          5|           69|         71|   N|                Y|          0.971830985915493|\n",
            "|R17ARFSDV555EW|          1|           29|         29|   N|                Y|                        1.0|\n",
            "|R3GL5156FFEDQA|          5|           20|         21|   N|                Y|         0.9523809523809523|\n",
            "|R29KQJC9PIYWQS|          5|           25|         26|   N|                Y|         0.9615384615384616|\n",
            "| RYWUJT2A33VJH|          5|           20|         22|   N|                N|         0.9090909090909091|\n",
            "|R1KH5L45CWI30I|          5|           19|         20|   N|                N|                       0.95|\n",
            "|R1RKEBF47UEIVH|          5|           26|         30|   N|                N|         0.8666666666666667|\n",
            "|R2WIB8BHF77XIG|          4|           69|         78|   N|                N|         0.8846153846153846|\n",
            "|R20T4C0DA38YBD|          5|           22|         23|   N|                Y|         0.9565217391304348|\n",
            "| REUKY9DLNJXYF|          4|           21|         22|   N|                Y|         0.9545454545454546|\n",
            "|R2OH5QLD7MGJTG|          5|           48|         48|   N|                Y|                        1.0|\n",
            "|R179M7NOS1365W|          5|           88|         91|   N|                Y|          0.967032967032967|\n",
            "|R2NPNCGM6T1JBA|          3|          253|        259|   N|                Y|         0.9768339768339769|\n",
            "|R345Z1BTFABFY0|          1|           19|         22|   N|                Y|         0.8636363636363636|\n",
            "|R2Z6FGGU3VNCT2|          1|           41|         46|   N|                N|         0.8913043478260869|\n",
            "+--------------+-----------+-------------+-----------+----+-----------------+---------------------------+\n",
            "only showing top 20 rows\n",
            "\n",
            "74113\n"
          ]
        }
      ]
    },
    {
      "cell_type": "code",
      "source": [
        "# 5. Determine the total number of reviews, the number of 5-star reviews and \n",
        "# % of 5-star reviews for the 2 types of review (paid v. unpaid)\n",
        "\n",
        "vpaid_5star_df = vine_paid_df.filter(vine_paid_df['star_rating'] == 5)\n",
        "paid_5star_count = vpaid_5star_df.count() \n",
        "print(paid_5star_count)\n",
        "# 229\n",
        "\n",
        "vunpaid_5star_df = vine_unpaid_df.filter(vine_unpaid_df['star_rating'] == 5)\n",
        "unpaid_5star_count = vunpaid_5star_df.count()\n",
        "print(unpaid_5star_count)\n",
        "# 43217 \n",
        "\n",
        "total_5star_reviews = paid_5star_count + unpaid_5star_count\n",
        "print(total_5star_reviews)\n",
        "# 43446"
      ],
      "metadata": {
        "colab": {
          "base_uri": "https://localhost:8080/"
        },
        "id": "1C14Babsi4JS",
        "outputId": "2a52912e-15ba-40c0-c62e-c790aa95e9ae"
      },
      "execution_count": 47,
      "outputs": [
        {
          "output_type": "stream",
          "name": "stdout",
          "text": [
            "229\n",
            "43217\n",
            "43446\n"
          ]
        }
      ]
    },
    {
      "cell_type": "code",
      "source": [
        "# % of 5-star reviews for 2 types of review paid and unpaid: \n",
        "percent_paid = (paid_5star_count/total_5star_reviews)*100\n",
        "print(percent_paid)\n",
        "# .527\n",
        "\n",
        "percent_unpaid = (unpaid_5star_count/total_5star_reviews)*100\n",
        "print(percent_unpaid)\n",
        "# 99.47"
      ],
      "metadata": {
        "colab": {
          "base_uri": "https://localhost:8080/"
        },
        "id": "s8WuPhcFp7qF",
        "outputId": "817e7113-df95-49f2-ed44-80a946f573e0"
      },
      "execution_count": 48,
      "outputs": [
        {
          "output_type": "stream",
          "name": "stdout",
          "text": [
            "0.5270911015973853\n",
            "99.47290889840261\n"
          ]
        }
      ]
    },
    {
      "cell_type": "code",
      "source": [
        "# putting it together: an analysis table/DF \n",
        "vine_analysis_df = spark.createDataFrame([('total_helpful_votes',74760.0), ('total_5star_reviews', 647.0), ('total_paid_votes', 74113.0), ('total_paid_votes', 43446.0),('total_paid_votes', 229.0),('total_unpaid_votes', 43217.0),('paid_5star_reviews', .527),('unpaid_5star_reviews', 99.47)], ['total_type', 'total_value'])\n",
        "vine_analysis_df.show()"
      ],
      "metadata": {
        "colab": {
          "base_uri": "https://localhost:8080/"
        },
        "id": "2sUOjLxTrF-e",
        "outputId": "2b8be4a2-9171-44fb-a591-52cc807e66b2"
      },
      "execution_count": 60,
      "outputs": [
        {
          "output_type": "stream",
          "name": "stdout",
          "text": [
            "+--------------------+-----------+\n",
            "|          total_type|total_value|\n",
            "+--------------------+-----------+\n",
            "| total_helpful_votes|    74760.0|\n",
            "| total_5star_reviews|      647.0|\n",
            "|    total_paid_votes|    74113.0|\n",
            "|    total_paid_votes|    43446.0|\n",
            "|    total_paid_votes|      229.0|\n",
            "|  total_unpaid_votes|    43217.0|\n",
            "|  paid_5star_reviews|      0.527|\n",
            "|unpaid_5star_reviews|      99.47|\n",
            "+--------------------+-----------+\n",
            "\n"
          ]
        }
      ]
    },
    {
      "cell_type": "code",
      "source": [
        "own_analysis = (total_count/df_total)*100\n",
        "print(own_analysis)"
      ],
      "metadata": {
        "colab": {
          "base_uri": "https://localhost:8080/"
        },
        "id": "MPmwZHWr8n7b",
        "outputId": "fda08921-fab1-4b43-b1c7-7c3a56110545"
      },
      "execution_count": 56,
      "outputs": [
        {
          "output_type": "stream",
          "name": "stdout",
          "text": [
            "1.4613932965912944\n"
          ]
        }
      ]
    },
    {
      "cell_type": "code",
      "source": [
        ""
      ],
      "metadata": {
        "id": "Ma47DPB1ZTbt"
      },
      "execution_count": null,
      "outputs": []
    }
  ]
}